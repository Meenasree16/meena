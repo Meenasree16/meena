{
  "nbformat": 4,
  "nbformat_minor": 0,
  "metadata": {
    "colab": {
      "provenance": [],
      "authorship_tag": "ABX9TyM5JpNJrurW2OuL8aeCnY57",
      "include_colab_link": true
    },
    "kernelspec": {
      "name": "python3",
      "display_name": "Python 3"
    },
    "language_info": {
      "name": "python"
    }
  },
  "cells": [
    {
      "cell_type": "markdown",
      "metadata": {
        "id": "view-in-github",
        "colab_type": "text"
      },
      "source": [
        "<a href=\"https://colab.research.google.com/github/Meenasree16/meena/blob/main/qa_score_logic.ipynb\" target=\"_parent\"><img src=\"https://colab.research.google.com/assets/colab-badge.svg\" alt=\"Open In Colab\"/></a>"
      ]
    },
    {
      "cell_type": "markdown",
      "source": [
        "Setup & Sample Data"
      ],
      "metadata": {
        "id": "AQ8MUmQltOxj"
      }
    },
    {
      "cell_type": "code",
      "source": [
        "# Sample transcript (load from uploaded file or paste)\n",
        "import json\n",
        "\n",
        "# Upload the transcript JSON file\n",
        "from google.colab import files\n",
        "uploaded = files.upload()\n",
        "\n",
        "# Load and parse the transcript file\n",
        "filename = list(uploaded.keys())[0]\n",
        "with open(filename, 'r') as f:\n",
        "    transcript = json.load(f)\n",
        "\n",
        "# Combine all Executive utterances\n",
        "executive_transcript = \" \".join([\n",
        "    turn[\"transcription\"]\n",
        "    for turn in transcript\n",
        "    if turn[\"speaker\"].lower() == \"executive\"\n",
        "])\n"
      ],
      "metadata": {
        "colab": {
          "base_uri": "https://localhost:8080/",
          "height": 73
        },
        "id": "fbjDhODNs6nz",
        "outputId": "e3e683cf-703e-4112-9a7f-1f59a2308c08"
      },
      "execution_count": 8,
      "outputs": [
        {
          "output_type": "display_data",
          "data": {
            "text/plain": [
              "<IPython.core.display.HTML object>"
            ],
            "text/html": [
              "\n",
              "     <input type=\"file\" id=\"files-98426d86-4b41-4482-987e-900287a50634\" name=\"files[]\" multiple disabled\n",
              "        style=\"border:none\" />\n",
              "     <output id=\"result-98426d86-4b41-4482-987e-900287a50634\">\n",
              "      Upload widget is only available when the cell has been executed in the\n",
              "      current browser session. Please rerun this cell to enable.\n",
              "      </output>\n",
              "      <script>// Copyright 2017 Google LLC\n",
              "//\n",
              "// Licensed under the Apache License, Version 2.0 (the \"License\");\n",
              "// you may not use this file except in compliance with the License.\n",
              "// You may obtain a copy of the License at\n",
              "//\n",
              "//      http://www.apache.org/licenses/LICENSE-2.0\n",
              "//\n",
              "// Unless required by applicable law or agreed to in writing, software\n",
              "// distributed under the License is distributed on an \"AS IS\" BASIS,\n",
              "// WITHOUT WARRANTIES OR CONDITIONS OF ANY KIND, either express or implied.\n",
              "// See the License for the specific language governing permissions and\n",
              "// limitations under the License.\n",
              "\n",
              "/**\n",
              " * @fileoverview Helpers for google.colab Python module.\n",
              " */\n",
              "(function(scope) {\n",
              "function span(text, styleAttributes = {}) {\n",
              "  const element = document.createElement('span');\n",
              "  element.textContent = text;\n",
              "  for (const key of Object.keys(styleAttributes)) {\n",
              "    element.style[key] = styleAttributes[key];\n",
              "  }\n",
              "  return element;\n",
              "}\n",
              "\n",
              "// Max number of bytes which will be uploaded at a time.\n",
              "const MAX_PAYLOAD_SIZE = 100 * 1024;\n",
              "\n",
              "function _uploadFiles(inputId, outputId) {\n",
              "  const steps = uploadFilesStep(inputId, outputId);\n",
              "  const outputElement = document.getElementById(outputId);\n",
              "  // Cache steps on the outputElement to make it available for the next call\n",
              "  // to uploadFilesContinue from Python.\n",
              "  outputElement.steps = steps;\n",
              "\n",
              "  return _uploadFilesContinue(outputId);\n",
              "}\n",
              "\n",
              "// This is roughly an async generator (not supported in the browser yet),\n",
              "// where there are multiple asynchronous steps and the Python side is going\n",
              "// to poll for completion of each step.\n",
              "// This uses a Promise to block the python side on completion of each step,\n",
              "// then passes the result of the previous step as the input to the next step.\n",
              "function _uploadFilesContinue(outputId) {\n",
              "  const outputElement = document.getElementById(outputId);\n",
              "  const steps = outputElement.steps;\n",
              "\n",
              "  const next = steps.next(outputElement.lastPromiseValue);\n",
              "  return Promise.resolve(next.value.promise).then((value) => {\n",
              "    // Cache the last promise value to make it available to the next\n",
              "    // step of the generator.\n",
              "    outputElement.lastPromiseValue = value;\n",
              "    return next.value.response;\n",
              "  });\n",
              "}\n",
              "\n",
              "/**\n",
              " * Generator function which is called between each async step of the upload\n",
              " * process.\n",
              " * @param {string} inputId Element ID of the input file picker element.\n",
              " * @param {string} outputId Element ID of the output display.\n",
              " * @return {!Iterable<!Object>} Iterable of next steps.\n",
              " */\n",
              "function* uploadFilesStep(inputId, outputId) {\n",
              "  const inputElement = document.getElementById(inputId);\n",
              "  inputElement.disabled = false;\n",
              "\n",
              "  const outputElement = document.getElementById(outputId);\n",
              "  outputElement.innerHTML = '';\n",
              "\n",
              "  const pickedPromise = new Promise((resolve) => {\n",
              "    inputElement.addEventListener('change', (e) => {\n",
              "      resolve(e.target.files);\n",
              "    });\n",
              "  });\n",
              "\n",
              "  const cancel = document.createElement('button');\n",
              "  inputElement.parentElement.appendChild(cancel);\n",
              "  cancel.textContent = 'Cancel upload';\n",
              "  const cancelPromise = new Promise((resolve) => {\n",
              "    cancel.onclick = () => {\n",
              "      resolve(null);\n",
              "    };\n",
              "  });\n",
              "\n",
              "  // Wait for the user to pick the files.\n",
              "  const files = yield {\n",
              "    promise: Promise.race([pickedPromise, cancelPromise]),\n",
              "    response: {\n",
              "      action: 'starting',\n",
              "    }\n",
              "  };\n",
              "\n",
              "  cancel.remove();\n",
              "\n",
              "  // Disable the input element since further picks are not allowed.\n",
              "  inputElement.disabled = true;\n",
              "\n",
              "  if (!files) {\n",
              "    return {\n",
              "      response: {\n",
              "        action: 'complete',\n",
              "      }\n",
              "    };\n",
              "  }\n",
              "\n",
              "  for (const file of files) {\n",
              "    const li = document.createElement('li');\n",
              "    li.append(span(file.name, {fontWeight: 'bold'}));\n",
              "    li.append(span(\n",
              "        `(${file.type || 'n/a'}) - ${file.size} bytes, ` +\n",
              "        `last modified: ${\n",
              "            file.lastModifiedDate ? file.lastModifiedDate.toLocaleDateString() :\n",
              "                                    'n/a'} - `));\n",
              "    const percent = span('0% done');\n",
              "    li.appendChild(percent);\n",
              "\n",
              "    outputElement.appendChild(li);\n",
              "\n",
              "    const fileDataPromise = new Promise((resolve) => {\n",
              "      const reader = new FileReader();\n",
              "      reader.onload = (e) => {\n",
              "        resolve(e.target.result);\n",
              "      };\n",
              "      reader.readAsArrayBuffer(file);\n",
              "    });\n",
              "    // Wait for the data to be ready.\n",
              "    let fileData = yield {\n",
              "      promise: fileDataPromise,\n",
              "      response: {\n",
              "        action: 'continue',\n",
              "      }\n",
              "    };\n",
              "\n",
              "    // Use a chunked sending to avoid message size limits. See b/62115660.\n",
              "    let position = 0;\n",
              "    do {\n",
              "      const length = Math.min(fileData.byteLength - position, MAX_PAYLOAD_SIZE);\n",
              "      const chunk = new Uint8Array(fileData, position, length);\n",
              "      position += length;\n",
              "\n",
              "      const base64 = btoa(String.fromCharCode.apply(null, chunk));\n",
              "      yield {\n",
              "        response: {\n",
              "          action: 'append',\n",
              "          file: file.name,\n",
              "          data: base64,\n",
              "        },\n",
              "      };\n",
              "\n",
              "      let percentDone = fileData.byteLength === 0 ?\n",
              "          100 :\n",
              "          Math.round((position / fileData.byteLength) * 100);\n",
              "      percent.textContent = `${percentDone}% done`;\n",
              "\n",
              "    } while (position < fileData.byteLength);\n",
              "  }\n",
              "\n",
              "  // All done.\n",
              "  yield {\n",
              "    response: {\n",
              "      action: 'complete',\n",
              "    }\n",
              "  };\n",
              "}\n",
              "\n",
              "scope.google = scope.google || {};\n",
              "scope.google.colab = scope.google.colab || {};\n",
              "scope.google.colab._files = {\n",
              "  _uploadFiles,\n",
              "  _uploadFilesContinue,\n",
              "};\n",
              "})(self);\n",
              "</script> "
            ]
          },
          "metadata": {}
        },
        {
          "output_type": "stream",
          "name": "stdout",
          "text": [
            "Saving card_block_handling.json to card_block_handling (1).json\n"
          ]
        }
      ]
    },
    {
      "cell_type": "markdown",
      "source": [
        "Define RAG-Based Policy Criteria"
      ],
      "metadata": {
        "id": "e5RKBXjDtRWw"
      }
    },
    {
      "cell_type": "code",
      "source": [
        "# Define RAG-grounded QA policy evaluation criteria\n",
        "policy_criteria = [\n",
        "    {\"id\": \"verify_identity\", \"keywords\": [\"mobile number\", \"date of birth\", \"last four digits\"], \"weight\": 0.20},\n",
        "    {\"id\": \"deny_unblock\", \"keywords\": [\"cannot unblock\", \"not allowed to unblock\", \"blocked permanently\"], \"weight\": 0.20},\n",
        "    {\"id\": \"give_security_reason\", \"keywords\": [\"for security reasons\", \"due to security\", \"security policy\"], \"weight\": 0.15},\n",
        "    {\"id\": \"reissue_card\", \"keywords\": [\"reissue\", \"replacement card\", \"new card issued\"], \"weight\": 0.15},\n",
        "    {\"id\": \"mention_delivery_timeline\", \"keywords\": [\"5 to 7 working days\", \"5–7 days\", \"delivered within\"], \"weight\": 0.10},\n",
        "    {\"id\": \"mention_tracking\", \"keywords\": [\"track\", \"tracking\", \"SMS confirmation\", \"mobile app\"], \"weight\": 0.10},\n",
        "    {\"id\": \"empathy_politeness\", \"keywords\": [\"happy to help\", \"thank you\", \"assist\", \"please\"], \"weight\": 0.10},\n",
        "]\n"
      ],
      "metadata": {
        "id": "r3gif1n6tGZ1"
      },
      "execution_count": 9,
      "outputs": []
    },
    {
      "cell_type": "markdown",
      "source": [
        "Scoring Logic"
      ],
      "metadata": {
        "id": "5p83sVRHtWdx"
      }
    },
    {
      "cell_type": "code",
      "source": [
        "def check_criterion_met(transcript_text, keywords):\n",
        "    transcript_lower = transcript_text.lower()\n",
        "    return any(kw.lower() in transcript_lower for kw in keywords)\n",
        "\n",
        "def compute_qa_score(transcript_text, policy_criteria):\n",
        "    total_score = 0\n",
        "    detailed_results = []\n",
        "    for item in policy_criteria:\n",
        "        met = check_criterion_met(transcript_text, item[\"keywords\"])\n",
        "        score = item[\"weight\"] if met else 0\n",
        "        total_score += score\n",
        "        detailed_results.append({\n",
        "            \"criterion\": item[\"id\"],\n",
        "            \"met\": met,\n",
        "            \"score\": round(score, 2)\n",
        "        })\n",
        "    return round(total_score, 2), detailed_results\n"
      ],
      "metadata": {
        "id": "6eoRSn3LtJpK"
      },
      "execution_count": 10,
      "outputs": []
    },
    {
      "cell_type": "markdown",
      "source": [
        " Run QA Evaluation"
      ],
      "metadata": {
        "id": "l3Qf2sADtdmR"
      }
    },
    {
      "cell_type": "code",
      "source": [
        "qa_score, details = compute_qa_score(executive_transcript, policy_criteria)\n",
        "\n",
        "print(f\"\\n✅ Final QA Score: {qa_score}/1.0\\n\")\n",
        "print(\"📋 Detailed Breakdown:\\n\")\n",
        "for d in details:\n",
        "    status = \"✅\" if d[\"met\"] else \"❌\"\n",
        "    print(f\"{status} {d['criterion']} → Score: {d['score']}\")\n"
      ],
      "metadata": {
        "id": "57VLL5wRtf3H",
        "outputId": "721cc8ce-407c-441e-dd57-a3c870592dd3",
        "colab": {
          "base_uri": "https://localhost:8080/"
        }
      },
      "execution_count": 11,
      "outputs": [
        {
          "output_type": "stream",
          "name": "stdout",
          "text": [
            "\n",
            "✅ Final QA Score: 0.8/1.0\n",
            "\n",
            "📋 Detailed Breakdown:\n",
            "\n",
            "✅ verify_identity → Score: 0.2\n",
            "❌ deny_unblock → Score: 0\n",
            "✅ give_security_reason → Score: 0.15\n",
            "✅ reissue_card → Score: 0.15\n",
            "✅ mention_delivery_timeline → Score: 0.1\n",
            "✅ mention_tracking → Score: 0.1\n",
            "✅ empathy_politeness → Score: 0.1\n"
          ]
        }
      ]
    }
  ]
}